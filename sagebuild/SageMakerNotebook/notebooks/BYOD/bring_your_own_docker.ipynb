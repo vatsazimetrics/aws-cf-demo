{
 "cells": [
  {
   "cell_type": "markdown",
   "metadata": {},
   "source": [
    "# SageBuild Tutorial\n",
    "\n",
    "This notebook will walk you through on how to use Sagebuild to build and deploy custom models on-demand or in response to events. We will reuse the code from the \"scikit_bring_your_own\" example notebook.\n",
    "\n",
    "## Helpfull Links\n",
    "* [Blog Post]() to see the details of how SageBuild works. \n",
    "* [See here](/notebooks/sample-notebooks/advanced_functionality/scikit_bring_your_own/scikit_bring_your_own.ipynb) for details of how to write Dockerfiles for your own algorithms.\n",
    "\n",
    "## Table of Contents\n",
    "1. [Setup](#SetUp)\n",
    "2. [Deploy](#Deploy)\n",
    "3. [Wait](#Wait)\n",
    "4. [Use](#Use)\n",
    "5. [Conclusion](#Conclusion)"
   ]
  },
  {
   "cell_type": "markdown",
   "metadata": {},
   "source": [
    "## SetUp <a name=\"SetUp\"></a>\n",
    "The following sets up the packages and variables we need. Note, the region and StackName variables have been filled in for you by the cloudformation template."
   ]
  },
  {
   "cell_type": "code",
   "execution_count": null,
   "metadata": {},
   "outputs": [],
   "source": [
    "import boto3\n",
    "import json\n",
    "from subprocess import check_output as run\n",
    "from subprocess import STDOUT\n",
    "from botocore.exceptions import ClientError\n",
    "from time import sleep\n",
    "import numpy as np\n",
    "import pandas as pd\n",
    "from io import StringIO\n",
    "\n",
    "cf = boto3.client('cloudformation')\n",
    "sns = boto3.client('sns')\n",
    "step = boto3.client('stepfunctions')\n",
    "s3 = boto3.resource('s3')\n",
    "ssm = boto3.client('ssm')\n",
    "sagemaker = boto3.client('sagemaker-runtime')\n",
    "Lambda=boto3.client('lambda')\n",
    "\n",
    "with open('../config.json') as json_file:  \n",
    "    data = json.load(json_file)\n",
    "    \n",
    "region=data['Region']\n",
    "StackName=data['StackName']\n",
    "data='iris.csv'\n",
    "\n",
    "#Get outputs from build stack\n",
    "result=cf.describe_stacks(\n",
    "    StackName=StackName\n",
    ")\n",
    "#Put Outputs in a dict for easy use\n",
    "outputs={}\n",
    "for output in result['Stacks'][0]['Outputs']:\n",
    "    outputs[output['OutputKey']]=output['OutputValue']\n",
    "print(\"Stack Outputs\")\n",
    "print(json.dumps(outputs,indent=4))"
   ]
  },
  {
   "cell_type": "markdown",
   "metadata": {},
   "source": [
    "We need to make sure the Sagebuild template is configured correctly for MXNET. the following code will set the stack configuration"
   ]
  },
  {
   "cell_type": "code",
   "execution_count": null,
   "metadata": {},
   "outputs": [],
   "source": [
    "params=result[\"Stacks\"][0][\"Parameters\"]\n",
    "for n,i in enumerate(params):\n",
    "    if(i[\"ParameterKey\"]==\"ConfigFramework\"):\n",
    "        i[\"ParameterValue\"]=\"BYOD\" \n",
    "\n",
    "try:\n",
    "    cf.update_stack(\n",
    "        StackName=StackName,\n",
    "        UsePreviousTemplate=True,\n",
    "        Parameters=params,\n",
    "        Capabilities=[\n",
    "            'CAPABILITY_NAMED_IAM',\n",
    "        ]\n",
    "    )\n",
    "    waiter = cf.get_waiter('stack_update_complete')\n",
    "    print(\"Waiting for stack update\")\n",
    "    waiter.wait(\n",
    "        StackName=StackName,\n",
    "        WaiterConfig={\n",
    "            'Delay':10,\n",
    "            'MaxAttempts':600\n",
    "        }\n",
    "    )\n",
    "\n",
    "except ClientError as e:\n",
    "    if(e.response[\"Error\"][\"Message\"]==\"No updates are to be performed.\"):\n",
    "        pass\n",
    "    else:\n",
    "        raise e\n",
    "print(\"stack ready!\")"
   ]
  },
  {
   "cell_type": "markdown",
   "metadata": {},
   "source": [
    "## configuration\n",
    "\n",
    "Both the training-job and endpoint have various configuration parameters. The build generates those parameters by calling two lambda functions with the current build state and the parameters stored in SSM Parameter store. In the following we change the parameters in the Parameter store to match our build.\n"
   ]
  },
  {
   "cell_type": "code",
   "execution_count": null,
   "metadata": {},
   "outputs": [],
   "source": [
    "store=outputs[\"ParameterStore\"]\n",
    "result=ssm.get_parameter(Name=store)\n",
    "\n",
    "params=json.loads(result[\"Parameter\"][\"Value\"])\n",
    "params[\"dockerfile_path_Training\"]=\"example/train\"\n",
    "params[\"dockerfile_path_Inference\"]=\"example/inference\"\n",
    "params[\"hyperparameters\"]={}\n",
    "params[\"channels\"]={\n",
    "    \"training\":{\n",
    "        \"path\":\"training/iris\"\n",
    "    }\n",
    "}\n",
    "\n",
    "ssm.put_parameter(\n",
    "    Name=store,\n",
    "    Type=\"String\",\n",
    "    Overwrite=True,\n",
    "    Value=json.dumps(params)\n",
    ")"
   ]
  },
  {
   "cell_type": "markdown",
   "metadata": {},
   "source": [
    "The follow shell commands will configure git to be able to access AWS CodeCommit and clone down the example repo. "
   ]
  },
  {
   "cell_type": "code",
   "execution_count": null,
   "metadata": {},
   "outputs": [],
   "source": [
    "#configure git to be able to access CodeCommit,uses SageMaker Instance's role for permissions.\n",
    "!git config --global credential.helper '!aws codecommit credential-helper $@'\n",
    "!git config --global credential.UseHttpPath true\n",
    "\n",
    "#clone down our example code\n",
    "!git clone https://github.com/aws-samples/aws-sagemaker-build.git\n"
   ]
  },
  {
   "cell_type": "markdown",
   "metadata": {},
   "source": [
    "## Deploy! <a name=\"Deploy\"></a>\n",
    "The following will \n",
    "- add the CodeCommit repo created by the cloudformation template as a remote named deploy\n",
    "- push example code to repo (will trigger a build)\n",
    "- upload our data to the DataBucket created by the Cloudformation template (will trigger a build)\n",
    "\n",
    "Once a build has started no new build can be started till the first one finishes"
   ]
  },
  {
   "cell_type": "code",
   "execution_count": null,
   "metadata": {},
   "outputs": [],
   "source": [
    "#push our Dockerfile code to the \"deploy\" CodeCommit repo\n",
    "run(\"cd aws-sagemaker-build && git remote add deploy {0}; git push deploy master\".format(outputs['RepoUrl']),\n",
    "    stderr=STDOUT,\n",
    "    shell=True) \n",
    "print(\"code Pushed\")\n",
    "\n",
    "#upload the data to the DataBucket\n",
    "object = s3.Object(outputs[\"DataBucket\"],'training/iris/data.csv')\n",
    "object.upload_file(data) \n",
    "print(\"data uploaded\")"
   ]
  },
  {
   "cell_type": "markdown",
   "metadata": {},
   "source": [
    "You can also trigger a build by publishing to the launch topic directly"
   ]
  },
  {
   "cell_type": "code",
   "execution_count": null,
   "metadata": {},
   "outputs": [],
   "source": [
    "result=sns.publish(\n",
    "    TopicArn=outputs['LaunchTopic'],\n",
    "    Message=\"{}\" #message is not important, just publishing to topic starts build\n",
    ")\n",
    "print(\"message published\")"
   ]
  },
  {
   "cell_type": "markdown",
   "metadata": {},
   "source": [
    "## Wait <a name=\"Wait\"></a>\n"
   ]
  },
  {
   "cell_type": "markdown",
   "metadata": {},
   "source": [
    "You can use the following code to get a notification "
   ]
  },
  {
   "cell_type": "code",
   "execution_count": null,
   "metadata": {},
   "outputs": [],
   "source": [
    "result=sns.subscribe(\n",
    "    TopicArn=outputs['TrainStatusTopic'],\n",
    "    Protocol=\"SMS\",\n",
    "    Endpoint=\"#-###-###-####\" #put your phone number here\n",
    ")\n",
    "print(\"subscribed to topic\")"
   ]
  },
  {
   "cell_type": "markdown",
   "metadata": {},
   "source": [
    "We can get the status of StateMachine as it builds and deploys our custom model. We can then setup a some code to wait for our build to complete"
   ]
  },
  {
   "cell_type": "code",
   "execution_count": null,
   "metadata": {},
   "outputs": [],
   "source": [
    "%%time \n",
    "#list all executions for our StateMachine to get our current running one\n",
    "result=step.list_executions(\n",
    "    stateMachineArn=outputs['StateMachine'],\n",
    "    statusFilter=\"RUNNING\"\n",
    ")[\"executions\"]\n",
    "print(result)\n",
    "if len(result) > 0:\n",
    "    response = step.describe_execution(\n",
    "        executionArn=result[0]['executionArn']\n",
    "    )\n",
    "    status=response['status']\n",
    "    print(status,response['name'])\n",
    "    #poll status till execution finishes\n",
    "    while status == \"RUNNING\":\n",
    "        print('.',end=\"\")\n",
    "        sleep(5)\n",
    "        status=step.describe_execution(executionArn=result[0]['executionArn'])['status']\n",
    "    print()\n",
    "    print(status)\n",
    "else:\n",
    "    print(\"no running tasks\")\n"
   ]
  },
  {
   "cell_type": "markdown",
   "metadata": {},
   "source": [
    "## Use <a name=\"Use\"></a>\n",
    "Next we get some data and send to our newly deployed endpoint!"
   ]
  },
  {
   "cell_type": "code",
   "execution_count": null,
   "metadata": {},
   "outputs": [],
   "source": [
    "%%time \n",
    "test_data=pd.read_csv(data, header=None).sample(10)\n",
    "test_X=test_data.iloc[:,1:]\n",
    "test_y=test_data.iloc[:,0]\n",
    "\n",
    "#convert test_X to csv\n",
    "Body=str.encode(test_X.to_csv(header=False,index=False))\n",
    "\n",
    "result=sagemaker.invoke_endpoint(\n",
    "    EndpointName=outputs[\"SageMakerEndpoint\"],\n",
    "    Body=Body,    \n",
    "    ContentType=\"text/csv\",\n",
    "    Accept=\"text/csv\"\n",
    ")\n",
    "\n",
    "print(pd.read_csv(StringIO(result['Body'].read().decode('utf-8')),header=None))"
   ]
  },
  {
   "cell_type": "markdown",
   "metadata": {},
   "source": [
    "## Conclusion <a name=\"Conclusion\"></a>\n",
    "\n",
    "Hopefully SageBuild can help you develop and deploy SageMaker custom models faster and easier. If you have any problems please let us know in our github issues [here](https://github.com/aws-samples/aws-sagemaker-build/issues). Feel free to send us pull request too!"
   ]
  }
 ],
 "metadata": {
  "kernelspec": {
   "display_name": "conda_python3",
   "language": "python",
   "name": "conda_python3"
  },
  "language_info": {
   "codemirror_mode": {
    "name": "ipython",
    "version": 3
   },
   "file_extension": ".py",
   "mimetype": "text/x-python",
   "name": "python",
   "nbconvert_exporter": "python",
   "pygments_lexer": "ipython3",
   "version": "3.6.5"
  }
 },
 "nbformat": 4,
 "nbformat_minor": 2
}
